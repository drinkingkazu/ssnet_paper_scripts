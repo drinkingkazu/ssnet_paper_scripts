{
 "cells": [
  {
   "cell_type": "code",
   "execution_count": null,
   "metadata": {
    "collapsed": true
   },
   "outputs": [],
   "source": [
    "%matplotlib inline\n",
    "#%pylab\n",
    "import matplotlib\n",
    "import matplotlib.pyplot as plt\n",
    "import matplotlib.colors as mpc\n",
    "from matplotlib.ticker import FormatStrFormatter\n",
    "from mpl_toolkits.mplot3d import Axes3D\n",
    "import numpy as np\n",
    "\n",
    "import scipy\n",
    "from scipy import interpolate\n",
    "import pandas as pd\n",
    "import itertools\n",
    "\n",
    "import root_numpy\n",
    "import commands\n",
    "from ROOT import TChain\n",
    "#ch=TChain(\"opdigit_pmtreadout_tree\")\n",
    "\n",
    "IMAGES_PER_BATCH=50.\n",
    "IMAGES_PER_EPOCH=50000.\n"
   ]
  },
  {
   "cell_type": "code",
   "execution_count": null,
   "metadata": {
    "collapsed": true
   },
   "outputs": [],
   "source": [
    "def moving_average(a, n=3) :\n",
    "    ret = np.cumsum(a, dtype=float)\n",
    "    ret[n:] = ret[n:] - ret[:-n]\n",
    "    return ret[n - 1:] / n"
   ]
  },
  {
   "cell_type": "code",
   "execution_count": null,
   "metadata": {
    "collapsed": false
   },
   "outputs": [],
   "source": [
    "fig,ax = plt.subplots(figsize=(12,8),facecolor='w')\n",
    "\n",
    "# standard\n",
    "ydata = [float(x.split()[-1]) for x in commands.getoutput('cat ssnet_log.txt | grep Iteration | grep loss').split('\\n')]\n",
    "xdata = [float(x.split()[-4].rstrip(',')) for x in commands.getoutput('cat ssnet_log.txt | grep Iteration | grep loss').split('\\n')]\n",
    "xdata = moving_average(xdata,100) * (IMAGES_PER_BATCH / IMAGES_PER_EPOCH)\n",
    "ydata = moving_average(ydata,100)\n",
    "plt.plot(xdata,ydata,label='spweights = 0, pretrain (SP) = 0',color='black')\n",
    "\n",
    "# spweights\n",
    "ydata = [float(x.split()[-1]) for x in commands.getoutput('cat ssnet_spweights_log.txt | grep Iteration | grep loss').split('\\n')]\n",
    "xdata = [float(x.split()[-4].rstrip(',')) for x in commands.getoutput('cat ssnet_spweights_log.txt | grep Iteration | grep loss').split('\\n')]\n",
    "xdata = moving_average(xdata,100) * (IMAGES_PER_BATCH / IMAGES_PER_EPOCH)\n",
    "ydata = moving_average(ydata,100)\n",
    "plt.plot(xdata,ydata,label='spweights = 1, pretrain (SP) = 0',color='blue')\n",
    "\n",
    "# pretrain\n",
    "#ydata = [float(x.split()[-1]) for x in commands.getoutput('cat lognew_pretrain_plane2.txt | grep Iteration | grep loss').split('\\n')]\n",
    "#xdata = [float(x.split()[-4].rstrip(',')) for x in commands.getoutput('cat lognew_pretrain_plane2.txt | grep Iteration | grep loss').split('\\n')]\n",
    "ydata = [float(x.split()[-1]) for x in commands.getoutput('cat pretrain_ssnet_log.txt | grep Iteration | grep loss').split('\\n')]\n",
    "xdata = [float(x.split()[-4].rstrip(',')) for x in commands.getoutput('cat pretrain_ssnet_log.txt | grep Iteration | grep loss').split('\\n')]\n",
    "xdata = moving_average(xdata,100) * (IMAGES_PER_BATCH / IMAGES_PER_EPOCH)\n",
    "ydata = moving_average(ydata,100)\n",
    "plt.plot(xdata,ydata,label='spweights = 0, pretrain (SP) = 1',color='magenta')\n",
    "\n",
    "# pretrain + spweights\n",
    "#ydata = [float(x.split()[-1]) for x in commands.getoutput('cat lognew_pretrain_spweights_plane2.txt | grep Iteration | grep loss').split('\\n')]\n",
    "#xdata = [float(x.split()[-4].rstrip(',')) for x in commands.getoutput('cat lognew_pretrain_spweights_plane2.txt | grep Iteration | grep loss').split('\\n')]\n",
    "ydata = [float(x.split()[-1]) for x in commands.getoutput('cat pretrain_ssnet_spweights_log.txt | grep Iteration | grep loss').split('\\n')]\n",
    "xdata = [float(x.split()[-4].rstrip(',')) for x in commands.getoutput('cat pretrain_ssnet_spweights_log.txt | grep Iteration | grep loss').split('\\n')]\n",
    "xdata = moving_average(xdata,100) * (IMAGES_PER_BATCH / IMAGES_PER_EPOCH)\n",
    "ydata = moving_average(ydata,100)\n",
    "plt.plot(xdata,ydata,label='spweights = 1, pretrain (SP) = 1',color='orange')\n",
    "\n",
    "ax.get_yaxis().get_major_formatter().set_useOffset(False)\n",
    "#ax.yaxis.set_major_formatter(FormatStrFormatter('%.2f'))\n",
    "plt.tick_params(labelsize=20)\n",
    "#plt.xlim(0,31)\n",
    "plt.ylim(0,0.81)\n",
    "plt.grid()\n",
    "plt.xlabel('Epoch',fontsize=20,fontweight='bold',fontname='Georgia')\n",
    "plt.ylabel('Loss',fontsize=20,fontweight='bold',fontname='Georgia')\n",
    "leg=plt.legend(fontsize=16)\n",
    "leg_frame=leg.get_frame()\n",
    "leg_frame.set_facecolor('white')\n",
    "plt.show()\n",
    "\n",
    "\n"
   ]
  },
  {
   "cell_type": "code",
   "execution_count": null,
   "metadata": {
    "collapsed": true
   },
   "outputs": [],
   "source": []
  }
 ],
 "metadata": {
  "kernelspec": {
   "display_name": "Python 2",
   "language": "python",
   "name": "python2"
  },
  "language_info": {
   "codemirror_mode": {
    "name": "ipython",
    "version": 2
   },
   "file_extension": ".py",
   "mimetype": "text/x-python",
   "name": "python",
   "nbconvert_exporter": "python",
   "pygments_lexer": "ipython2",
   "version": "2.7.10"
  }
 },
 "nbformat": 4,
 "nbformat_minor": 0
}
